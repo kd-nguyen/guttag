{
 "cells": [
  {
   "cell_type": "code",
   "execution_count": 66,
   "metadata": {},
   "outputs": [
    {
     "data": {
      "text/plain": [
       "array([0, 0, 0, 0, 0])"
      ]
     },
     "execution_count": 66,
     "metadata": {},
     "output_type": "execute_result"
    }
   ],
   "source": [
    "import numpy as np\n",
    "\n",
    "\n",
    "def display_indicies(nums, indicies):\n",
    "    \"\"\"\n",
    "    Display a list of 1's and 0's and is as long as a list of numbers.\n",
    "    The locations of 1 are indicated by a different list of specified indicies.\n",
    "    nums: list of numbers whose length is the length of the output list\n",
    "    indicies: list of indicies in num on which 1's will be displayed\n",
    "    Output: list of 1's and 0's with the same length as num, 1's at indicies specified by indicies list, and 0's everywhere else.\n",
    "    Example: display_indicies([5, 6, 7, 8], [1, 3]) -> [0, 1, 0, 1]    \n",
    "    \"\"\"\n",
    "    display_list = []\n",
    "    for index in range(len(nums)):\n",
    "        if index in indicies:\n",
    "            display_list.append(1)\n",
    "        else:\n",
    "            display_list.append(0)\n",
    "    \n",
    "    return np.array(display_list)\n",
    "\n",
    "\n",
    "def find_combination(choices, total):\n",
    "    \"\"\"\n",
    "    choices: a non-empty list of ints\n",
    "    total: a positive int\n",
    " \n",
    "    Returns result, a numpy.array of length len(choices) \n",
    "    such that\n",
    "        * each element of result is 0 or 1\n",
    "        * sum(result*choices) == total\n",
    "        * sum(result) is as small as possible\n",
    "    In case of ties, returns any result that works.\n",
    "    If there is no result that gives the exact total, \n",
    "    pick the one that gives sum(result*choices) closest \n",
    "    to total without going over.\n",
    "    \"\"\"\n",
    "    sum_to_indicies = {}\n",
    "    for index, num in enumerate(choices):\n",
    "        # Only store number to indicies if the number is smaller or equal to total\n",
    "        if num <= total:\n",
    "            # Add number to current sums in the dict. If the new sum is still within total, \n",
    "            # and if the new indicies combination is shorter than the current combination associated with the sum,\n",
    "            # then store the new indicies as the value of the sum key.\n",
    "            for current_sum, current_indicies in list(sum_to_indicies.items()):\n",
    "                new_sum = current_sum + num\n",
    "                new_indicies = current_indicies + [index]\n",
    "                \n",
    "                if new_sum <= total:\n",
    "                    if new_sum in sum_to_indicies:\n",
    "                        if len(new_indicies) < len(sum_to_indicies[new_sum]):\n",
    "                            sum_to_indicies[new_sum] = new_indicies\n",
    "                    # If the new sum has not yet existed in the dict, add the sum and indicies to the dict.\n",
    "                    else:\n",
    "                        sum_to_indicies[new_sum] = new_indicies\n",
    "            \n",
    "            # Finally, add index of current number to sum key, as it is guaranteed to be the shortest combination that adds\n",
    "            # up to that sum. This is done after adding number to current sums so that it won't be added to itself.\n",
    "            sum_to_indicies[num] = [index]\n",
    "    \n",
    "    # Return indicies whose sum equals total\n",
    "    if total in sum_to_indicies:\n",
    "        return display_indicies(choices, sum_to_indicies[total])\n",
    "    else:\n",
    "        # If such indicies can't be found, search for closest sum closest to and smaller than total\n",
    "        for num_sum in range(total, -1, -1):\n",
    "            if num_sum in sum_to_indicies:\n",
    "                return display_indicies(choices, sum_to_indicies[num_sum])\n",
    "        # Return list of zeros if there's no sum below total\n",
    "        return display_indicies(choices, [])\n",
    "    \n",
    "find_combination([4, 10, 3, 5, 8], 1)"
   ]
  }
 ],
 "metadata": {
  "kernelspec": {
   "display_name": "Python 3",
   "language": "python",
   "name": "python3"
  },
  "language_info": {
   "codemirror_mode": {
    "name": "ipython",
    "version": 3
   },
   "file_extension": ".py",
   "mimetype": "text/x-python",
   "name": "python",
   "nbconvert_exporter": "python",
   "pygments_lexer": "ipython3",
   "version": "3.6.1"
  }
 },
 "nbformat": 4,
 "nbformat_minor": 2
}
