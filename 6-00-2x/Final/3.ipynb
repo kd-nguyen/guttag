{
 "cells": [
  {
   "cell_type": "code",
   "execution_count": 13,
   "metadata": {
    "collapsed": true
   },
   "outputs": [],
   "source": [
    "import random\n",
    "\n",
    "\n",
    "def same_color(bucket, withdrawn_count):\n",
    "    \"\"\"\n",
    "    Return True if all balls randomly withdrawn from a bucket have the same color\n",
    "    bucket: list of balls in bucket, each ball represented by a string indicating its color ['R', 'R', 'G', 'R']\n",
    "    withdrawn_count: number of balls withdrawn from the bucket\n",
    "    Output: True if all withdrawn balls are of the same color, False otherwise\n",
    "    \"\"\"\n",
    "    random.shuffle(bucket)\n",
    "    withdrawn_balls = bucket[:withdrawn_count]\n",
    "    if len(set(withdrawn_balls)) <= 1:\n",
    "        return True\n",
    "    else:\n",
    "        return False\n",
    "    \n",
    "    \n",
    "def drawing_without_replacement_sim(numTrials):\n",
    "    '''\n",
    "    Runs numTrials trials of a Monte Carlo simulation\n",
    "    of drawing 3 balls out of a bucket containing\n",
    "    4 red and 4 green balls. Balls are not replaced once\n",
    "    drawn. Returns a float - the fraction of times 3 \n",
    "    balls of the same color were drawn in the first 3 draws.\n",
    "    '''\n",
    "    same_color_trials = 0\n",
    "    withdrawn_count = 3\n",
    "    for trial in range(numTrials):\n",
    "        bucket = ['R'] * 4 + ['G'] * 4\n",
    "        if same_color(bucket, withdrawn_count):\n",
    "            same_color_trials += 1\n",
    "    \n",
    "    return same_color_trials/numTrials"
   ]
  }
 ],
 "metadata": {
  "kernelspec": {
   "display_name": "Python 3",
   "language": "python",
   "name": "python3"
  },
  "language_info": {
   "codemirror_mode": {
    "name": "ipython",
    "version": 3
   },
   "file_extension": ".py",
   "mimetype": "text/x-python",
   "name": "python",
   "nbconvert_exporter": "python",
   "pygments_lexer": "ipython3",
   "version": "3.6.1"
  }
 },
 "nbformat": 4,
 "nbformat_minor": 2
}
