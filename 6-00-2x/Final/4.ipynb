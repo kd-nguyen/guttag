{
 "cells": [
  {
   "cell_type": "code",
   "execution_count": 5,
   "metadata": {
    "collapsed": true
   },
   "outputs": [],
   "source": [
    "import random, pylab\n",
    "\n",
    "# You are given this function\n",
    "def getMeanAndStd(X):\n",
    "    mean = sum(X)/float(len(X))\n",
    "    tot = 0.0\n",
    "    for x in X:\n",
    "        tot += (x - mean)**2\n",
    "    std = (tot/len(X))**0.5\n",
    "    return mean, std\n",
    "\n",
    "# You are given this class\n",
    "class Die(object):\n",
    "    def __init__(self, valList):\n",
    "        \"\"\" valList is not empty \"\"\"\n",
    "        self.possibleVals = valList[:]\n",
    "    def roll(self):\n",
    "        return random.choice(self.possibleVals)\n",
    "\n",
    "# Implement this -- Coding Part 1 of 2\n",
    "def makeHistogram(values, numBins, xLabel, yLabel, title=None):\n",
    "    \"\"\"\n",
    "      - values, a sequence of numbers\n",
    "      - numBins, a positive int\n",
    "      - xLabel, yLabel, title, are strings\n",
    "      - Produces a histogram of values with numBins bins and the indicated labels\n",
    "        for the x and y axis\n",
    "      - If title is provided by caller, puts that title on the figure and otherwise\n",
    "        does not title the figure\n",
    "    \"\"\"\n",
    "    pylab.hist(values, bins=numBins)\n",
    "    if title:\n",
    "        pylab.title(title)\n",
    "    pylab.xlabel(xLabel)\n",
    "    pylab.ylabel(yLabel)\n",
    "    pylab.show()          \n"
   ]
  },
  {
   "cell_type": "code",
   "execution_count": 72,
   "metadata": {},
   "outputs": [
    {
     "data": {
      "image/png": "[encoded data removed]",
      "text/plain": [
       "<matplotlib.figure.Figure at 0x1d6ac74afd0>"
      ]
     },
     "metadata": {},
     "output_type": "display_data"
    },
    {
     "data": {
      "text/plain": [
       "5.3198"
      ]
     },
     "execution_count": 72,
     "metadata": {},
     "output_type": "execute_result"
    }
   ],
   "source": [
    "# Implement this -- Coding Part 2 of 2\n",
    "\n",
    "def longest_run(die, numRolls):\n",
    "    \"\"\"\n",
    "    Find the longest streak (of identical rolls) from certain number of die rolls\n",
    "    die: Die object, initialized with die values\n",
    "    numRolls: num of rolls of the die\n",
    "    Output: int of longest streak (of identical rolls) from numRolls rolls\n",
    "    \"\"\"\n",
    "    first_roll = die.roll()\n",
    "    roll_results = [first_roll]\n",
    "    max_length = 1\n",
    "    current_length = 1\n",
    "    for roll in range(1, numRolls):\n",
    "        roll_result = die.roll()\n",
    "        # If roll result is the same as previous roll result, add one to current streak.\n",
    "        # If current streak length is longer than the max streak length, then set the max streak length as the current streak length\n",
    "        if roll_result == roll_results[-1]:\n",
    "            current_length += 1\n",
    "            if current_length > max_length:\n",
    "                max_length = current_length\n",
    "        # If roll result is different than the previous roll result, then reset the current streak length\n",
    "        else:\n",
    "            current_length = 1\n",
    "        roll_results.append(roll_result)\n",
    "\n",
    "    return max_length\n",
    "\n",
    "\n",
    "def getAverage(die, numRolls, numTrials):\n",
    "    \"\"\"\n",
    "      - die, a Die\n",
    "      - numRolls, numTrials, are positive ints\n",
    "      - Calculates the expected mean value of the longest run of a number\n",
    "        over numTrials runs of numRolls rolls\n",
    "      - Calls makeHistogram to produce a histogram of the longest runs for all\n",
    "        the trials. There should be 10 bins in the histogram\n",
    "      - Choose appropriate labels for the x and y axes.\n",
    "      - Returns the mean calculated\n",
    "    \"\"\"\n",
    "    longest_runs = [longest_run(die, numRolls) for trial in range(numTrials)]\n",
    "    makeHistogram(longest_runs, 10, 'Length of longest run', 'Count', 'Histogram of {} trials by the longest '\n",
    "                  'run out of {} rolls per trial'.format(numTrials, numRolls))\n",
    "    average_longest_run = sum(longest_runs)/numTrials\n",
    "    \n",
    "    return average_longest_run\n",
    "\n",
    "getAverage(Die([1,2,3,4,5,6,6,6,7]), 500, 10000)"
   ]
  },
  {
   "cell_type": "code",
   "execution_count": 71,
   "metadata": {},
   "outputs": [
    {
     "name": "stdout",
     "output_type": "stream",
     "text": [
      "Help on function xlim in module matplotlib.pyplot:\n",
      "\n",
      "xlim(*args, **kwargs)\n",
      "    Get or set the *x* limits of the current axes.\n",
      "    \n",
      "    ::\n",
      "    \n",
      "      xmin, xmax = xlim()   # return the current xlim\n",
      "      xlim( (xmin, xmax) )  # set the xlim to xmin, xmax\n",
      "      xlim( xmin, xmax )    # set the xlim to xmin, xmax\n",
      "    \n",
      "    If you do not specify args, you can pass the xmin and xmax as\n",
      "    kwargs, e.g.::\n",
      "    \n",
      "      xlim(xmax=3) # adjust the max leaving min unchanged\n",
      "      xlim(xmin=1) # adjust the min leaving max unchanged\n",
      "    \n",
      "    Setting limits turns autoscaling off for the x-axis.\n",
      "    \n",
      "    The new axis limits are returned as a length 2 tuple.\n",
      "\n"
     ]
    }
   ],
   "source": [
    "help(pylab.xlim)"
   ]
  }
 ],
 "metadata": {
  "kernelspec": {
   "display_name": "Python 3",
   "language": "python",
   "name": "python3"
  },
  "language_info": {
   "codemirror_mode": {
    "name": "ipython",
    "version": 3
   },
   "file_extension": ".py",
   "mimetype": "text/x-python",
   "name": "python",
   "nbconvert_exporter": "python",
   "pygments_lexer": "ipython3",
   "version": "3.6.1"
  }
 },
 "nbformat": 4,
 "nbformat_minor": 2
}
